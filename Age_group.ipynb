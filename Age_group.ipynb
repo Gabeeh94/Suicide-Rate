{
 "cells": [
  {
   "cell_type": "markdown",
   "id": "e3108f7d",
   "metadata": {},
   "source": [
    "# Age Group Analysis\n",
    "\n",
    "\n",
    "## Set SQL environment"
   ]
  },
  {
   "cell_type": "code",
   "execution_count": 1,
   "id": "4e358bf3",
   "metadata": {},
   "outputs": [],
   "source": [
    "import pandas as pd\n",
    "import numpy as np\n",
    "from sqlalchemy import create_engine\n",
    "import pyodbc\n",
    "import matplotlib.pyplot as plt\n",
    "\n",
    "\n",
    "#Set the environment to get the table from the databse in SQL Server\n",
    "\n",
    "# Defining our connection variables\n",
    "driver = 'FreeTDS'\n",
    "server = 'localhost'  # change this to your db’s IP address\n",
    "port = '1433'\n",
    "database = 'Suicide_Project' # change this to the name of your db\n",
    "username = 'sa' # replace with your username\n",
    "password = '' # replace with your password\n",
    "version  = '7.3'\n",
    "\n",
    "#Create string to connect\n",
    "mssql_string = 'DRIVER={'+driver+'};SERVER='+server+';PORT='+port+';DATABASE='+database+';UID='+username+';PWD='+password+';TDS_Version='+version+';'\n",
    "\n",
    "conn = pyodbc.connect(mssql_string)\n",
    "\n",
    "engine = create_engine('mssql+pyodbc://{}:{}@{}:{}/{}?driver={}'.format(username, password, server, port, database, driver))\n"
   ]
  },
  {
   "cell_type": "markdown",
   "id": "5a13d545",
   "metadata": {},
   "source": [
    "## Query and Clean the dataframe to show the suicide rate by age group"
   ]
  },
  {
   "cell_type": "code",
   "execution_count": 48,
   "id": "2ac7402b",
   "metadata": {},
   "outputs": [],
   "source": [
    "suicide_rate = pd.read_sql_query(\n",
    "    '''SELECT  Location, Dim2, FactValueNumeric\n",
    "    FROM suicide_data\n",
    "    WHERE Period = '2019' AND Dim1 = 'Both sexes' ''', \n",
    "con=engine)\n",
    "\n",
    "#Get all age groups\n",
    "age_groups = suicide_rate['Dim2'].drop_duplicates()\n",
    "\n",
    "#Sort them from youngest to oldest and make a list\n",
    "age_groups = age_groups.sort_values().tolist()\n",
    "\n",
    "#Create container dataframe\n",
    "suicide_age = pd.DataFrame(columns = ['Age Group','Median Suicide Rate'])\n",
    "\n",
    "#Append the suicide rate by age group\n",
    "for age in age_groups :\n",
    "\n",
    "    if isinstance(age,str):\n",
    "        series = suicide_rate.loc[suicide_rate['Dim2'] == age, 'FactValueNumeric']\n",
    "        age = age.replace(' years', '')\n",
    "        mean = series.median()\n",
    "        row = pd.Series([age,mean], index=suicide_age.columns)\n",
    "        suicide_age = suicide_age.append(row, ignore_index=True)\n",
    "    else:\n",
    "        series = suicide_rate.loc[suicide_rate['Dim2'].isnull() , 'FactValueNumeric']\n",
    "        age = 'All'\n",
    "        mean = series.median()\n",
    "        row = pd.Series([age,mean], index=suicide_age.columns)\n",
    "        suicide_age = suicide_age.append(row, ignore_index=True)\n",
    "        \n"
   ]
  },
  {
   "cell_type": "markdown",
   "id": "3bf07e31",
   "metadata": {},
   "source": [
    "## Create graph"
   ]
  },
  {
   "cell_type": "code",
   "execution_count": 62,
   "id": "cd431121",
   "metadata": {},
   "outputs": [
    {
     "data": {
      "image/png": "[encoded data removed]",
      "text/plain": [
       "<Figure size 864x576 with 1 Axes>"
      ]
     },
     "metadata": {
      "needs_background": "light"
     },
     "output_type": "display_data"
    }
   ],
   "source": [
    "ax = suicide_age.plot.bar(x='Age Group', y='Median Suicide Rate', rot=0, figsize=[12,8])\n",
    "\n",
    "ax.set_title('Median Suicide Rate by Age Group')\n",
    "\n",
    "plt.xticks(fontsize = 13)\n",
    "\n",
    "plt.show()"
   ]
  },
  {
   "cell_type": "code",
   "execution_count": null,
   "id": "dadc3198",
   "metadata": {},
   "outputs": [],
   "source": []
  }
 ],
 "metadata": {
  "kernelspec": {
   "display_name": "Python 3 (ipykernel)",
   "language": "python",
   "name": "python3"
  },
  "language_info": {
   "codemirror_mode": {
    "name": "ipython",
    "version": 3
   },
   "file_extension": ".py",
   "mimetype": "text/x-python",
   "name": "python",
   "nbconvert_exporter": "python",
   "pygments_lexer": "ipython3",
   "version": "3.8.8"
  }
 },
 "nbformat": 4,
 "nbformat_minor": 5
}
